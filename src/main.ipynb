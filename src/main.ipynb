{
 "cells": [
  {
   "cell_type": "code",
   "execution_count": 3,
   "metadata": {},
   "outputs": [],
   "source": [
    "import numpy as np\n",
    "import pandas as pd\n",
    "import cv2\n",
    "import matplotlib.pyplot as plt\n",
    "import scipy\n",
    "import math\n",
    "import argparse\n",
    "from PIL import Image\n",
    "import os"
   ]
  },
  {
   "cell_type": "code",
   "execution_count": 12,
   "metadata": {},
   "outputs": [],
   "source": [
    "database = \"../data/ORL\"\n",
    "x = []\n",
    "# Iterate over folders in the database\n",
    "for folder in os.listdir(database):\n",
    "    folder_path = os.path.join(database, folder)\n",
    "    \n",
    "    # Check if it is a directory\n",
    "    if os.path.isdir(folder_path):\n",
    "        # Iterate over files in the folder\n",
    "        i=0\n",
    "        for file in os.listdir(folder_path):\n",
    "            if i>5:\n",
    "                break\n",
    "            file_path = os.path.join(folder_path, file)\n",
    "            \n",
    "            # Open the image and append it to the list\n",
    "            x.append(np.array(Image.open(file_path)))\n",
    "            i += 1"
   ]
  },
  {
   "cell_type": "code",
   "execution_count": 20,
   "metadata": {},
   "outputs": [],
   "source": [
    "x = [xi.flatten() for xi in x]"
   ]
  },
  {
   "cell_type": "code",
   "execution_count": 23,
   "metadata": {},
   "outputs": [],
   "source": [
    "x_mean = np.mean(x,axis=0)"
   ]
  },
  {
   "cell_type": "code",
   "execution_count": 24,
   "metadata": {},
   "outputs": [],
   "source": [
    "x = [xi-x_mean for xi in x]"
   ]
  },
  {
   "cell_type": "code",
   "execution_count": 27,
   "metadata": {},
   "outputs": [],
   "source": [
    "cov_matrix = np.cov(x, rowvar=False)"
   ]
  },
  {
   "cell_type": "code",
   "execution_count": 29,
   "metadata": {},
   "outputs": [],
   "source": [
    "eigenvalues, eigenvectors = np.linalg.eig(cov_matrix)"
   ]
  },
  {
   "cell_type": "code",
   "execution_count": 34,
   "metadata": {},
   "outputs": [],
   "source": [
    "sorted_indices = np.argsort(eigenvalues)[::-1]"
   ]
  },
  {
   "cell_type": "code",
   "execution_count": 44,
   "metadata": {},
   "outputs": [],
   "source": [
    "eigenvalue = eigenvalues[sorted_indices[:40]]\n",
    "eigenvector = eigenvectors[:, sorted_indices[:40]]"
   ]
  },
  {
   "cell_type": "code",
   "execution_count": 49,
   "metadata": {},
   "outputs": [],
   "source": [
    "eigencoeff = [np.dot(eigenvector.T, xi) for xi in x]"
   ]
  },
  {
   "cell_type": "code",
   "execution_count": 51,
   "metadata": {},
   "outputs": [
    {
     "data": {
      "text/plain": [
       "(40,)"
      ]
     },
     "execution_count": 51,
     "metadata": {},
     "output_type": "execute_result"
    }
   ],
   "source": [
    "eigencoeff[0].shape"
   ]
  },
  {
   "cell_type": "code",
   "execution_count": 54,
   "metadata": {},
   "outputs": [],
   "source": [
    "y = []\n",
    "# Iterate over folders in the database\n",
    "for folder in os.listdir(database):\n",
    "    folder_path = os.path.join(database, folder)\n",
    "    # Check if it is a directory\n",
    "    if os.path.isdir(folder_path):\n",
    "        # Iterate over files in the folder\n",
    "        i=0\n",
    "        for file in os.listdir(folder_path):\n",
    "            if i<=5:\n",
    "                i += 1\n",
    "                continue\n",
    "            file_path = os.path.join(folder_path, file)\n",
    "            \n",
    "            # Open the image and append it to the list\n",
    "            y.append(np.array(Image.open(file_path)))"
   ]
  },
  {
   "cell_type": "code",
   "execution_count": 58,
   "metadata": {},
   "outputs": [],
   "source": [
    "y = [yi.flatten() for yi in y]"
   ]
  },
  {
   "cell_type": "code",
   "execution_count": 60,
   "metadata": {},
   "outputs": [],
   "source": [
    "y = [yi-x_mean for yi in y]"
   ]
  },
  {
   "cell_type": "code",
   "execution_count": 62,
   "metadata": {},
   "outputs": [],
   "source": [
    "alpha = [np.dot(eigenvector.T, yi) for yi in y]"
   ]
  },
  {
   "cell_type": "code",
   "execution_count": 73,
   "metadata": {},
   "outputs": [],
   "source": [
    "minimum = []\n",
    "for i in range(len(alpha)):\n",
    "    diff = [scipy.linalg.norm(alpha[i]-eigenl) for eigenl in eigencoeff]\n",
    "    minimum.append(np.argmin(diff))"
   ]
  },
  {
   "cell_type": "code",
   "execution_count": 77,
   "metadata": {},
   "outputs": [],
   "source": [
    "ones = 0\n",
    "for i in range(len(minimum)):\n",
    "    if(i//4 == minimum[i]//6):\n",
    "        ones += 1"
   ]
  },
  {
   "cell_type": "code",
   "execution_count": 80,
   "metadata": {},
   "outputs": [],
   "source": [
    "accuracy = ones/len(minimum)*100"
   ]
  },
  {
   "cell_type": "code",
   "execution_count": 81,
   "metadata": {},
   "outputs": [
    {
     "name": "stdout",
     "output_type": "stream",
     "text": [
      "96.25\n"
     ]
    }
   ],
   "source": [
    "print(accuracy)"
   ]
  }
 ],
 "metadata": {
  "kernelspec": {
   "display_name": "Python 3",
   "language": "python",
   "name": "python3"
  },
  "language_info": {
   "codemirror_mode": {
    "name": "ipython",
    "version": 3
   },
   "file_extension": ".py",
   "mimetype": "text/x-python",
   "name": "python",
   "nbconvert_exporter": "python",
   "pygments_lexer": "ipython3",
   "version": "3.11.2"
  }
 },
 "nbformat": 4,
 "nbformat_minor": 2
}
